{
 "cells": [
  {
   "cell_type": "code",
   "execution_count": 6,
   "metadata": {},
   "outputs": [],
   "source": [
    "from random import randint"
   ]
  },
  {
   "cell_type": "code",
   "execution_count": 24,
   "metadata": {},
   "outputs": [
    {
     "name": "stdout",
     "output_type": "stream",
     "text": [
      "too low\n",
      "too low\n",
      "too high\n",
      "too high\n",
      "too high\n",
      "too high\n",
      "too low\n",
      "too low\n",
      "too low\n",
      "good job, you got it!!!\n",
      "it took you 10 trys\n",
      "game over\n"
     ]
    }
   ],
   "source": [
    "number = randint(1,100)\n",
    "\n",
    "for i in range (10):\n",
    "    guess = int(input(\"guess a number between 1 and 100 :\"))\n",
    "    if number < guess:\n",
    "        print(\"too high\")\n",
    "    elif number > guess:\n",
    "        print(\"too low\")\n",
    "    else:\n",
    "        print(\"good job, you got it!!!\")\n",
    "        print(\"it took you\", i+1, \"trys\")\n",
    "        break\n",
    "\n",
    "if i == 9:\n",
    "    print(\"game over\")\n",
    "\n",
    "    "
   ]
  },
  {
   "cell_type": "code",
   "execution_count": 28,
   "metadata": {},
   "outputs": [
    {
     "name": "stdout",
     "output_type": "stream",
     "text": [
      "you got a D, bad\n",
      "you got a C, ok\n",
      "you got an A!!!, amazing work\n",
      "you got an A!!!, amazing work\n",
      "you got a B, good job\n",
      "there where 2 A's 1 B's 1 C's 1 D's and 0 E's\n",
      "there was an average score of 70.0\n",
      "the lowest grade was 30\n",
      "the highest grade was 90\n"
     ]
    }
   ],
   "source": [
    "A = 0\n",
    "B = 0\n",
    "C = 0\n",
    "D = 0\n",
    "E = 0\n",
    "\n",
    "grades = 5\n",
    "minimum = 100\n",
    "maximum = 0\n",
    "total = 0\n",
    "\n",
    "for i in range(grades):\n",
    "    grade = int(input(\"what is the grade?\"))\n",
    "    if grade < 21:\n",
    "        print(\"you got a E, boo\")\n",
    "        E += 1\n",
    "    elif grade >= 21 and grade < 41:\n",
    "        print (\"you got a D, bad\")\n",
    "        D += 1\n",
    "    elif grade >= 41 and grade < 61:\n",
    "        print (\"you got a C, ok\")\n",
    "        C += 1\n",
    "    elif grade >= 61 and grade < 81:\n",
    "        print(\"you got a B, good job\")\n",
    "        B += 1\n",
    "    else:\n",
    "        print(\"you got an A!!!, amazing work\")\n",
    "        A += 1\n",
    "\n",
    "    total = total + grade\n",
    "    \n",
    "    if grade < minimum:\n",
    "        minimum = grade\n",
    "    \n",
    "    if grade > maximum:\n",
    "        maximum = grade\n",
    "\n",
    "avertage = total / grades\n",
    "\n",
    "print(\"there where\",A, \"A's\", B, \"B's\", C, \"C's\", D, \"D's and\", E, \"E's\")\n",
    "print(\"there was an average score of\", avertage)\n",
    "print(\"the lowest grade was\", minimum)\n",
    "print(\"the highest grade was\", maximum)\n",
    "        "
   ]
  }
 ],
 "metadata": {
  "kernelspec": {
   "display_name": "Python 3",
   "language": "python",
   "name": "python3"
  },
  "language_info": {
   "codemirror_mode": {
    "name": "ipython",
    "version": 3
   },
   "file_extension": ".py",
   "mimetype": "text/x-python",
   "name": "python",
   "nbconvert_exporter": "python",
   "pygments_lexer": "ipython3",
   "version": "3.11.1"
  },
  "orig_nbformat": 4
 },
 "nbformat": 4,
 "nbformat_minor": 2
}
